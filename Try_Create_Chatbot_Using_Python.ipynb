{
  "nbformat": 4,
  "nbformat_minor": 0,
  "metadata": {
    "colab": {
      "name": "Try Create Chatbot Using Python.ipynb",
      "provenance": [],
      "authorship_tag": "ABX9TyOtp6uILmHAeJth950A5dMb",
      "include_colab_link": true
    },
    "kernelspec": {
      "name": "python3",
      "display_name": "Python 3"
    }
  },
  "cells": [
    {
      "cell_type": "markdown",
      "metadata": {
        "id": "view-in-github",
        "colab_type": "text"
      },
      "source": [
        "<a href=\"https://colab.research.google.com/github/MuhammadShaheer-khan/Chatbot/blob/main/Try_Create_Chatbot_Using_Python.ipynb\" target=\"_parent\"><img src=\"https://colab.research.google.com/assets/colab-badge.svg\" alt=\"Open In Colab\"/></a>"
      ]
    },
    {
      "cell_type": "code",
      "metadata": {
        "colab": {
          "base_uri": "https://localhost:8080/",
          "height": 86
        },
        "id": "KRbF9e0rN80q",
        "outputId": "68832eca-3684-4147-b85f-e99de3493b57"
      },
      "source": [
        "''' My name is Shaheer\r\n",
        "***************\r\n",
        "My name is Khan\r\n",
        "Hey! Khan\r\n",
        ">My name is khan\r\n",
        "Hey! Khan\r\n",
        ">my name is Khan\r\n",
        "Hey! Khan\r\n",
        ">my name is shees\r\n",
        "Hey! Shees\r\n",
        ">My name is shees\r\n",
        "Hey! Shees\r\n",
        ">my name is shaheer\r\n",
        "None\r\n",
        ">My name is Shaheer\r\n",
        "None\r\n",
        ">My name is shaheer\r\n",
        "None\r\n",
        "***********************\r\n",
        "my name is shaheer\r\n",
        "hey! shaheer\r\n",
        ">My name is shaheer\r\n",
        "hey! shaheer\r\n",
        ">My name is Shaheer\r\n",
        "hey! shaheer\r\n",
        ">My name is mahad\r\n",
        "hey! mahad\r\n",
        ">my name is JARVIS\r\n",
        "hey! jarvis\r\n",
        ">who are you ?\r\n",
        "None\r\n",
        ">shaheer is my name.\r\n",
        "None\r\n",
        ">My name is Shaheer.\r\n",
        "hey! shaheer\r\n",
        ">my name is shaheer.\r\n",
        "hey! shaheer\r\n",
        ">quit\r\n",
        "********************** '''"
      ],
      "execution_count": 24,
      "outputs": [
        {
          "output_type": "execute_result",
          "data": {
            "application/vnd.google.colaboratory.intrinsic+json": {
              "type": "string"
            },
            "text/plain": [
              "' My name is Shaheer\\n***************\\nMy name is Khan\\nHey! Khan\\n>My name is khan\\nHey! Khan\\n>my name is Khan\\nHey! Khan\\n>my name is shees\\nHey! Shees\\n>My name is shees\\nHey! Shees\\n>my name is shaheer\\nNone\\n>My name is Shaheer\\nNone\\n>My name is shaheer\\nNone\\n***********************\\nmy name is shaheer\\nhey! shaheer\\n>My name is shaheer\\nhey! shaheer\\n>My name is Shaheer\\nhey! shaheer\\n>My name is mahad\\nhey! mahad\\n>my name is JARVIS\\nhey! jarvis\\n>who are you ?\\nNone\\n>shaheer is my name.\\nNone\\n>My name is Shaheer.\\nhey! shaheer\\n>my name is shaheer.\\nhey! shaheer\\n>quit\\n********************** '"
            ]
          },
          "metadata": {
            "tags": []
          },
          "execution_count": 24
        }
      ]
    },
    {
      "cell_type": "code",
      "metadata": {
        "id": "vpM8Ja-oGiaZ"
      },
      "source": [
        "# This is a chatbot program"
      ],
      "execution_count": 1,
      "outputs": []
    },
    {
      "cell_type": "markdown",
      "metadata": {
        "id": "Bf3ORcN7GsQV"
      },
      "source": [
        "**Import Library**"
      ]
    },
    {
      "cell_type": "code",
      "metadata": {
        "id": "gO3cOZD5Gqmx"
      },
      "source": [
        "from nltk.chat.util import Chat, reflections"
      ],
      "execution_count": 2,
      "outputs": []
    },
    {
      "cell_type": "code",
      "metadata": {
        "id": "0KX2tdv0G_d_"
      },
      "source": [
        "pairs = [\r\n",
        "         ['My name is Shaheer', ['Hey! Shaheer']]\r\n",
        "]"
      ],
      "execution_count": 3,
      "outputs": []
    },
    {
      "cell_type": "code",
      "metadata": {
        "colab": {
          "base_uri": "https://localhost:8080/"
        },
        "id": "AL1_why2Hk4u",
        "outputId": "aa6a804f-63cc-48c4-9175-33910af0e4c8"
      },
      "source": [
        "chat = Chat(pairs)\r\n",
        "chat.converse()"
      ],
      "execution_count": 4,
      "outputs": [
        {
          "output_type": "stream",
          "text": [
            ">My name is Shaheer\n",
            "Hey! Shaheer\n",
            ">quit\n",
            "None\n"
          ],
          "name": "stdout"
        }
      ]
    },
    {
      "cell_type": "code",
      "metadata": {
        "id": "gTFPIKR0HtD_"
      },
      "source": [
        "pairs2 = [\r\n",
        "         ['My name is Khan', ['Hey! Khan']],\r\n",
        "          ['My name is Shees', ['Hey! Shees']]\r\n",
        "]"
      ],
      "execution_count": 5,
      "outputs": []
    },
    {
      "cell_type": "code",
      "metadata": {
        "colab": {
          "base_uri": "https://localhost:8080/"
        },
        "id": "r203SfqtKABJ",
        "outputId": "f220f275-d5b8-4f9a-e637-edb64272b7e1"
      },
      "source": [
        "chat = Chat(pairs2)\r\n",
        "chat.converse()"
      ],
      "execution_count": 6,
      "outputs": [
        {
          "output_type": "stream",
          "text": [
            ">My name is Khan\n",
            "Hey! Khan\n",
            ">My name is khan\n",
            "Hey! Khan\n",
            ">my name is Khan\n",
            "Hey! Khan\n",
            ">my name is shees\n",
            "Hey! Shees\n",
            ">My name is shees\n",
            "Hey! Shees\n",
            ">my name is shaheer\n",
            "None\n",
            ">My name is Shaheer\n",
            "None\n",
            ">My name is shaheer\n",
            "None\n",
            ">quit\n",
            "None\n"
          ],
          "name": "stdout"
        }
      ]
    },
    {
      "cell_type": "code",
      "metadata": {
        "id": "UQZ5WzPlKBpJ"
      },
      "source": [
        "pairs3 = [\r\n",
        "         ['my name is (.*)', ['hey! %1']],\r\n",
        "]"
      ],
      "execution_count": 7,
      "outputs": []
    },
    {
      "cell_type": "code",
      "metadata": {
        "colab": {
          "base_uri": "https://localhost:8080/"
        },
        "id": "xdUqfVi7Kdxu",
        "outputId": "12ff513a-e409-4922-c0c1-0af0c3f3c688"
      },
      "source": [
        "chat = Chat(pairs3, reflections)\r\n",
        "chat.converse()"
      ],
      "execution_count": 9,
      "outputs": [
        {
          "output_type": "stream",
          "text": [
            ">my name is shaheer\n",
            "hey! shaheer\n",
            ">My name is shaheer\n",
            "hey! shaheer\n",
            ">My name is Shaheer\n",
            "hey! shaheer\n",
            ">My name is mahad\n",
            "hey! mahad\n",
            ">my name is JARVIS\n",
            "hey! jarvis\n",
            ">who are you ?\n",
            "None\n",
            ">shaheer is my name.\n",
            "None\n",
            ">My name is Shaheer.\n",
            "hey! shaheer\n",
            ">my name is shaheer.\n",
            "hey! shaheer\n",
            ">quit\n",
            "None\n"
          ],
          "name": "stdout"
        }
      ]
    },
    {
      "cell_type": "code",
      "metadata": {
        "colab": {
          "base_uri": "https://localhost:8080/"
        },
        "id": "ZmhYNoW0KfyF",
        "outputId": "ea611392-5a91-45fd-9b81-8782799088ec"
      },
      "source": [
        "# Build in dic\r\n",
        "reflections"
      ],
      "execution_count": 11,
      "outputs": [
        {
          "output_type": "execute_result",
          "data": {
            "text/plain": [
              "{'i': 'you',\n",
              " 'i am': 'you are',\n",
              " 'i was': 'you were',\n",
              " \"i'd\": 'you would',\n",
              " \"i'll\": 'you will',\n",
              " \"i'm\": 'you are',\n",
              " \"i've\": 'you have',\n",
              " 'me': 'you',\n",
              " 'my': 'your',\n",
              " 'you': 'me',\n",
              " 'you are': 'I am',\n",
              " 'you were': 'I was',\n",
              " \"you'll\": 'I will',\n",
              " \"you've\": 'I have',\n",
              " 'your': 'my',\n",
              " 'yours': 'mine'}"
            ]
          },
          "metadata": {
            "tags": []
          },
          "execution_count": 11
        }
      ]
    },
    {
      "cell_type": "code",
      "metadata": {
        "colab": {
          "base_uri": "https://localhost:8080/",
          "height": 35
        },
        "id": "Asxjn4oMMW3L",
        "outputId": "1293875c-579d-4655-a5da-c0ff64adb088"
      },
      "source": [
        "chat = Chat(pairs3, reflections)\r\n",
        "chat._substitute('you are amazing')\r\n",
        "# chat.converse()"
      ],
      "execution_count": 12,
      "outputs": [
        {
          "output_type": "execute_result",
          "data": {
            "application/vnd.google.colaboratory.intrinsic+json": {
              "type": "string"
            },
            "text/plain": [
              "'I am amazing'"
            ]
          },
          "metadata": {
            "tags": []
          },
          "execution_count": 12
        }
      ]
    },
    {
      "cell_type": "code",
      "metadata": {
        "colab": {
          "base_uri": "https://localhost:8080/",
          "height": 35
        },
        "id": "kCstPG93MuDB",
        "outputId": "44b531b5-e468-43df-8834-73a3c5f07d0c"
      },
      "source": [
        "chat._substitute('i am amazing')"
      ],
      "execution_count": 13,
      "outputs": [
        {
          "output_type": "execute_result",
          "data": {
            "application/vnd.google.colaboratory.intrinsic+json": {
              "type": "string"
            },
            "text/plain": [
              "'you are amazing'"
            ]
          },
          "metadata": {
            "tags": []
          },
          "execution_count": 13
        }
      ]
    },
    {
      "cell_type": "code",
      "metadata": {
        "colab": {
          "base_uri": "https://localhost:8080/",
          "height": 35
        },
        "id": "EAWu8NlmMzSO",
        "outputId": "2a5f42bd-1d28-4170-cea0-f0e5d4d7e3e4"
      },
      "source": [
        "chat._substitute('i was too busy')"
      ],
      "execution_count": 14,
      "outputs": [
        {
          "output_type": "execute_result",
          "data": {
            "application/vnd.google.colaboratory.intrinsic+json": {
              "type": "string"
            },
            "text/plain": [
              "'you were too busy'"
            ]
          },
          "metadata": {
            "tags": []
          },
          "execution_count": 14
        }
      ]
    },
    {
      "cell_type": "code",
      "metadata": {
        "colab": {
          "base_uri": "https://localhost:8080/",
          "height": 35
        },
        "id": "5ux7q8rJM2vG",
        "outputId": "c2466402-ecb3-4d55-df40-a481f24e7c70"
      },
      "source": [
        "chat._substitute('is this your pancil ?')"
      ],
      "execution_count": 15,
      "outputs": [
        {
          "output_type": "execute_result",
          "data": {
            "application/vnd.google.colaboratory.intrinsic+json": {
              "type": "string"
            },
            "text/plain": [
              "'is this my pancil ?'"
            ]
          },
          "metadata": {
            "tags": []
          },
          "execution_count": 15
        }
      ]
    },
    {
      "cell_type": "code",
      "metadata": {
        "id": "w9hqsfyGM_yg"
      },
      "source": [
        "# Create own reflection\r\n",
        "\r\n",
        "my_reflections = {\r\n",
        "    'go' : 'gone',\r\n",
        "    'hello' : 'hey! there'\r\n",
        "}"
      ],
      "execution_count": 17,
      "outputs": []
    },
    {
      "cell_type": "code",
      "metadata": {
        "colab": {
          "base_uri": "https://localhost:8080/",
          "height": 35
        },
        "id": "oZlfZ9PQNd9p",
        "outputId": "f7b13ef3-2026-468f-faa0-0a5efcf92f8c"
      },
      "source": [
        "chat = Chat(pairs3, my_reflections)\r\n",
        "chat._substitute('go hello')"
      ],
      "execution_count": 18,
      "outputs": [
        {
          "output_type": "execute_result",
          "data": {
            "application/vnd.google.colaboratory.intrinsic+json": {
              "type": "string"
            },
            "text/plain": [
              "'gone hey! there'"
            ]
          },
          "metadata": {
            "tags": []
          },
          "execution_count": 18
        }
      ]
    },
    {
      "cell_type": "code",
      "metadata": {
        "colab": {
          "base_uri": "https://localhost:8080/",
          "height": 35
        },
        "id": "6X_Tmo-kNrgm",
        "outputId": "4efb16d2-157a-47c2-b38b-e592e102fc61"
      },
      "source": [
        "chat._substitute('go  \\n hello')"
      ],
      "execution_count": 21,
      "outputs": [
        {
          "output_type": "execute_result",
          "data": {
            "application/vnd.google.colaboratory.intrinsic+json": {
              "type": "string"
            },
            "text/plain": [
              "'gone  \\n hey! there'"
            ]
          },
          "metadata": {
            "tags": []
          },
          "execution_count": 21
        }
      ]
    },
    {
      "cell_type": "code",
      "metadata": {
        "id": "8a0jSHMXNvM_"
      },
      "source": [
        ""
      ],
      "execution_count": null,
      "outputs": []
    }
  ]
}