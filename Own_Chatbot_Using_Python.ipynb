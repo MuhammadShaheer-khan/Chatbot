{
  "nbformat": 4,
  "nbformat_minor": 0,
  "metadata": {
    "colab": {
      "name": "Own Chatbot Using Python.ipynb",
      "provenance": [],
      "authorship_tag": "ABX9TyNoY1G3U/tg/+QwrKWjBrwW",
      "include_colab_link": true
    },
    "kernelspec": {
      "name": "python3",
      "display_name": "Python 3"
    }
  },
  "cells": [
    {
      "cell_type": "markdown",
      "metadata": {
        "id": "view-in-github",
        "colab_type": "text"
      },
      "source": [
        "<a href=\"https://colab.research.google.com/github/MuhammadShaheer-khan/Chatbot/blob/main/Own_Chatbot_Using_Python.ipynb\" target=\"_parent\"><img src=\"https://colab.research.google.com/assets/colab-badge.svg\" alt=\"Open In Colab\"/></a>"
      ]
    },
    {
      "cell_type": "code",
      "metadata": {
        "id": "vpM8Ja-oGiaZ"
      },
      "source": [
        "# This is a chatbot program"
      ],
      "execution_count": 1,
      "outputs": []
    },
    {
      "cell_type": "markdown",
      "metadata": {
        "id": "Bf3ORcN7GsQV"
      },
      "source": [
        "**Import Library**"
      ]
    },
    {
      "cell_type": "code",
      "metadata": {
        "id": "gO3cOZD5Gqmx"
      },
      "source": [
        "from nltk.chat.util import Chat, reflections"
      ],
      "execution_count": 2,
      "outputs": []
    },
    {
      "cell_type": "code",
      "metadata": {
        "id": "0KX2tdv0G_d_"
      },
      "source": [
        "pairs = [\r\n",
        "         ['my name is (.*)', ['hi %1']],\r\n",
        "         ['hi|hey|hello|hallo|hola', ['hey there', 'hi there', 'haayyy']],\r\n",
        "         ['(.*) in (.*) is fun', ['%1 in %2 is indeed fun']]\r\n",
        "]"
      ],
      "execution_count": 3,
      "outputs": []
    },
    {
      "cell_type": "code",
      "metadata": {
        "colab": {
          "base_uri": "https://localhost:8080/"
        },
        "id": "AL1_why2Hk4u",
        "outputId": "af7076e5-90bf-43fb-86a1-228008666598"
      },
      "source": [
        "chat = Chat(pairs, reflections)\r\n",
        "chat.converse()"
      ],
      "execution_count": 4,
      "outputs": [
        {
          "output_type": "stream",
          "text": [
            ">jerry in carrtoon is fun\n",
            "jerry in carrtoon is indeed fun\n",
            ">quit\n",
            "None\n"
          ],
          "name": "stdout"
        }
      ]
    },
    {
      "cell_type": "code",
      "metadata": {
        "id": "M6oF7zUO1X6_"
      },
      "source": [
        "pairs2 = [\r\n",
        "         ['(.*)(location|city) ?', ['Tokyo, Japan']],\r\n",
        "          ['(.*) created you ?', ['Shaheer Khan did using NLTK']],\r\n",
        "          ['how is the weather in (.*)', ['the weather in %1 is amazing like always']]\r\n",
        "]"
      ],
      "execution_count": 8,
      "outputs": []
    },
    {
      "cell_type": "code",
      "metadata": {
        "colab": {
          "base_uri": "https://localhost:8080/"
        },
        "id": "hWCr7CKP3Lpt",
        "outputId": "6c825802-e7e2-4f0a-f41c-5769af518259"
      },
      "source": [
        "chat = Chat(pairs2, reflections)\r\n",
        "chat.converse()"
      ],
      "execution_count": 9,
      "outputs": [
        {
          "output_type": "stream",
          "text": [
            ">how is the weather in karachi\n",
            "the weather in karachi is amazing like always\n",
            ">who created you ?\n",
            "Shaheer Khan did using NLTK\n",
            ">Japan location\n",
            "Tokyo, Japan\n",
            ">location\n",
            "Tokyo, Japan\n",
            ">error\n",
            "None\n",
            ">quit\n",
            "None\n"
          ],
          "name": "stdout"
        }
      ]
    },
    {
      "cell_type": "code",
      "metadata": {
        "id": "GDZUuE_s3NXv"
      },
      "source": [
        "last_pairs = [\r\n",
        "         ['(.*)(location|city) ?', ['Tokyo, Japan']],\r\n",
        "          ['(.*) created you ?', ['Shaheer Khan did using NLTK']],\r\n",
        "          ['how is the weather in (.*) ?', ['the weather in %1 is amazing like always']],\r\n",
        "          ['(.*)help(.*)', ['I can help you']],\r\n",
        "          ['(.*) is your name ?', ['My name is J.A.R.V.I.S']]\r\n",
        "]"
      ],
      "execution_count": 10,
      "outputs": []
    },
    {
      "cell_type": "code",
      "metadata": {
        "colab": {
          "base_uri": "https://localhost:8080/"
        },
        "id": "wR8_O2ew5AR_",
        "outputId": "c00d60c4-4da9-4043-d24c-17226e6d7967"
      },
      "source": [
        "chat = Chat(last_pairs, reflections)\r\n",
        "chat.converse()"
      ],
      "execution_count": 11,
      "outputs": [
        {
          "output_type": "stream",
          "text": [
            ">i need your help\n",
            "I can help you\n",
            ">who  created you ?\n",
            "Shaheer Khan did using NLTK\n",
            ">who created you\n",
            "Shaheer Khan did using NLTK\n",
            ">what is your name ?\n",
            "My name is J.A.R.V.I.S\n",
            ">good\n",
            "None\n",
            ">quit\n",
            "None\n"
          ],
          "name": "stdout"
        }
      ]
    }
  ]
}